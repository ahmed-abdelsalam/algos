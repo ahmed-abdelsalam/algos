{
 "cells": [
  {
   "cell_type": "code",
   "execution_count": 19,
   "metadata": {},
   "outputs": [
    {
     "data": {
      "text/plain": [
       "3"
      ]
     },
     "execution_count": 19,
     "metadata": {},
     "output_type": "execute_result"
    }
   ],
   "source": [
    "def maxSubarrayLength(badges):\n",
    "    # Write your code here\n",
    "    max_length = len(badges)\n",
    "    \n",
    "    if max_length == 0:\n",
    "        return 0\n",
    "    elif max_length == 1:\n",
    "        return 1 if badges[0] == 1 else 0\n",
    "    nve_count = 0\n",
    "    las_nv_ix = 0\n",
    "    for i,val in enumerate(badges):\n",
    "        if val == -1:\n",
    "            nve_count += 1\n",
    "            las_nv_ix = i\n",
    "    if nve_count % 2 ==0:\n",
    "        return max_length\n",
    "    else:\n",
    "        return max([las_nv_ix,max_length-las_nv_ix-1])\n",
    "a= [-1,-1,1] \n",
    "#len(a)\n",
    "maxSubarrayLength(a)"
   ]
  },
  {
   "cell_type": "code",
   "execution_count": 20,
   "metadata": {},
   "outputs": [
    {
     "data": {
      "text/plain": [
       "6"
      ]
     },
     "execution_count": 20,
     "metadata": {},
     "output_type": "execute_result"
    }
   ],
   "source": [
    "def getMaxFreqDeviation(s):\n",
    "    # Write your code here\n",
    "    slen = len(s)\n",
    "    if slen <= 1:\n",
    "        return slen\n",
    "    freqs = {}\n",
    "    maxc=s[0]\n",
    "    minc=maxc\n",
    "    maxf=1\n",
    "    minf=1\n",
    "    maxchar=1\n",
    "    \n",
    "    for i in range(1,slen):\n",
    "        if s[i-1] == s[i]:\n",
    "            maxchar += 1\n",
    "        else:\n",
    "            maxchar = 1\n",
    "        if s[i] == maxc:\n",
    "            maxf = max(maxf,maxchar)\n",
    "        elif maxchar > maxf:\n",
    "            maxf = maxchar\n",
    "            maxc = s[i]\n",
    "        if s[i] == minc:\n",
    "            minf =min(minf,maxchar)\n",
    "        elif maxchar <= minf and s[i] != minc:\n",
    "            minc = s[i]\n",
    "            minf = maxchar\n",
    "    return maxf- minf\n",
    "getMaxFreqDeviation('baabbbbbbb')"
   ]
  },
  {
   "cell_type": "code",
   "execution_count": 21,
   "metadata": {},
   "outputs": [
    {
     "data": {
      "text/plain": [
       "16"
      ]
     },
     "execution_count": 21,
     "metadata": {},
     "output_type": "execute_result"
    }
   ],
   "source": [
    "# def getHeaviestPackage(packageWeights):\n",
    "#     # Write your code here\n",
    "#     if len(packageWeights) == 0:\n",
    "#         return 0\n",
    "#     if len(packageWeights) == 1:\n",
    "#         return packageWeights[0]\n",
    "#     ])\n",
    "#     remaining = getHeaviestPackage(packageWeights[1:])\n",
    "#     if packageWeights[0] < remaining:\n",
    "#         return packageWeights[0] + remaining\n",
    "#     return packageWeights[0]\n",
    "\n",
    "def getHeaviestPackage(packageWeights):\n",
    "    # Write your code here\n",
    "    length = len(packageWeights)\n",
    "    if length == 0:\n",
    "        return 0\n",
    "    if length == 1:\n",
    "        return packageWeights[0]\n",
    "    prev = 0\n",
    "    maxWeight = 0\n",
    "    i = length -1\n",
    "    while i > 0:\n",
    "        prev += packageWeights[i]\n",
    "        \n",
    "        if packageWeights[i] > packageWeights[i-1] or packageWeights[i-1] < prev :\n",
    "            maxWeight = prev\n",
    "        else:\n",
    "            prev = 0\n",
    "        i -= 1\n",
    "    return max(maxWeight, prev+packageWeights[0])\n",
    "getHeaviestPackage([2,5,4,5])"
   ]
  },
  {
   "cell_type": "code",
   "execution_count": 22,
   "metadata": {},
   "outputs": [],
   "source": [
    "def findTotalImbalances(rank): \n",
    "    # Write your code here\n",
    "    if len(rank) <= 1:\n",
    "        return 0\n",
    "    if len(rank) == 2:\n",
    "        return 0 if abs(rank[0]-rank[1]) <= 1 else 1\n",
    "    res = 0\n",
    "    dp = [0]*len(rank)\n",
    "    sorted_rank = rank[len(rank)-1:]\n",
    "    for i in range(len(rank)-2,-1,-1):\n",
    "        dp[i] = 0 if abs(rank[i]-rank[i+1]) <= 1 else 1\n",
    "        res *= 2\n",
    "        for j in range(i+1, len(rank)):\n",
    "            diff = sorted_rank[j-i-1]- rank[i]\n",
    "            is_last = j-i == len(sorted_rank)\n",
    "            if diff >= 1 or  is_last:\n",
    "                right_diff = rank[i] - sorted_rank[j-i-2] if j-i >= 2 else 0\n",
    "                if diff > 1:\n",
    "                    res += 1\n",
    "                elif right_diff > 1:\n",
    "                    res += 1\n",
    "                elif right_diff == 1:\n",
    "                    res -= 1\n",
    "                sorted_rank.insert(j-i-1 if diff >= 1 else j-i,rank[i])\n",
    "                break\n",
    "            if rank[i] == rank[j]:\n",
    "                return 0\n",
    "    return res\n",
    "    \n",
    "def find_total_difference_in_combination(arr):\n",
    "    # Write your code here\n",
    "    if len(arr) <= 1:\n",
    "        return 0\n",
    "    if len(arr) == 2:\n",
    "        return abs(arr[0]-arr[1])\n",
    "    res = 0\n",
    "    sorted_arr = arr[len(arr)-1:]\n",
    "    for i in range(len(arr)-2,-1,-1):\n",
    "        diff = sorted_arr[i-1]- arr[i]\n",
    "        is_last = i == len(arr)-2\n",
    "        if diff >= 1 or  is_last:\n",
    "            right_diff = arr[i] - sorted_arr[i-2] if i >= 2 else 0\n",
    "            if diff > 1:\n",
    "                res += 1\n",
    "            elif right_diff > 1:\n",
    "                res += 1\n",
    "            elif right_diff == 1:\n",
    "                res -= 1\n",
    "            sorted_arr.insert(i-1 if diff >= 1 else i,arr[i])\n",
    "            break\n",
    "        if arr[i] == arr[i+1]:\n",
    "            return 0\n",
    "    return res"
   ]
  },
  {
   "cell_type": "code",
   "execution_count": 23,
   "metadata": {},
   "outputs": [
    {
     "data": {
      "text/plain": [
       "5"
      ]
     },
     "execution_count": 23,
     "metadata": {},
     "output_type": "execute_result"
    }
   ],
   "source": [
    "# Given a “2 x n” board and tiles of size “2 x 1”, \n",
    "# count the number of ways to tile the given board using the 2 x 1 tiles. \n",
    "# A tile can either be placed horizontally i.e., as a 1 x 2 tile or vertically i.e., as 2 x 1 tile. \n",
    "\n",
    "\n",
    "# block is 2x1 or 1x2  \n",
    "# board is 2xn\n",
    "\n",
    "def tile_count(n: int) -> int:\n",
    "    if n <= 0: return 0\n",
    "    if n <= 2:\n",
    "        return n\n",
    "    dp = [0]*(n)\n",
    "    dp[0] = 1\n",
    "    dp[1] = 2\n",
    "    for i in range(2,n):\n",
    "        dp[i] = dp[i-1] + dp[i-2]\n",
    "    return dp[n-1]\n",
    "\n",
    "tile_count(4)"
   ]
  },
  {
   "cell_type": "code",
   "execution_count": 24,
   "metadata": {},
   "outputs": [
    {
     "data": {
      "text/plain": [
       "[0, 1, 5, 8, 10, 13, 17, 18, 22]"
      ]
     },
     "execution_count": 24,
     "metadata": {},
     "output_type": "execute_result"
    }
   ],
   "source": [
    "# Cutting Rod\n",
    "def maxCutProfit(prices, n):\n",
    "    max_len = len(prices)\n",
    "    if max_len == 0:\n",
    "        return 0\n",
    "    dp = [0]*(n+1)\n",
    "    for i in range(1,n+1):\n",
    "        for j in range(i,0,-1):\n",
    "            dp[i] = max(dp[i], prices[j-1]+dp[i-j])\n",
    "    return dp\n",
    "\n",
    "maxCutProfit([1, 5, 8, 9, 10, 17, 17, 20], 8)"
   ]
  },
  {
   "cell_type": "code",
   "execution_count": 25,
   "metadata": {},
   "outputs": [],
   "source": [
    "# Imbalance in all combinations\n",
    "# [4, 1, 3, 2]\n",
    "# [4, 1] [1 4]\n",
    "\n",
    "def rank_imbalalnces(row):\n",
    "    if len(row) <= 1:\n",
    "        return 0\n",
    "    dp = [[0]*(j+1) for j in range(len(row))]\n",
    "    for i in range(row):\n",
    "        for j in range(i,-1,-1):\n",
    "            row[i]\n",
    "            rank(i,j,dp)\n",
    "\n"
   ]
  },
  {
   "cell_type": "code",
   "execution_count": 26,
   "metadata": {},
   "outputs": [
    {
     "data": {
      "text/plain": [
       "2"
      ]
     },
     "execution_count": 26,
     "metadata": {},
     "output_type": "execute_result"
    }
   ],
   "source": [
    "def total(seq):\n",
    "    if len(seq) <=2:\n",
    "        return 0\n",
    "    # all 0's  | rest 1's | all 1's | rest 0's \n",
    "    dp = [0]*4\n",
    "    for i in range(len(seq)):\n",
    "        if seq[i] == '0': #0\n",
    "            dp[2] += 1\n",
    "            if dp[1] >= dp[0]:\n",
    "                dp[1] = dp[0]\n",
    "            else:\n",
    "                dp[1] += 1\n",
    "        else: #1\n",
    "            dp[0] += 1\n",
    "            if dp[3] >= dp[2]:\n",
    "                dp[3] = dp[2]\n",
    "            else:\n",
    "                dp[3] += 1\n",
    "    return min(dp)\n",
    "\n",
    "total(\"1111001110\")\n"
   ]
  },
  {
   "cell_type": "code",
   "execution_count": 27,
   "metadata": {},
   "outputs": [
    {
     "data": {
      "text/plain": [
       "3"
      ]
     },
     "execution_count": 27,
     "metadata": {},
     "output_type": "execute_result"
    }
   ],
   "source": [
    "def min_flips(seq):\n",
    "    if len(seq) <=1:\n",
    "        return 0\n",
    "    # all 0's  | rest 1's | all 1's | rest 0's \n",
    "    dp = [0]*3\n",
    "    for i in range(len(seq)):\n",
    "        if seq[i] == '0': #0\n",
    "            dp[2] += 1\n",
    "            if dp[1] >= dp[0]:\n",
    "                dp[1] = dp[0]\n",
    "            else:\n",
    "                dp[1] += 1\n",
    "        else: #1\n",
    "            dp[0] += 1\n",
    "    return min(dp)\n",
    "min_flips(\"1111001110\")\n"
   ]
  },
  {
   "cell_type": "code",
   "execution_count": 28,
   "metadata": {},
   "outputs": [
    {
     "data": {
      "text/plain": [
       "[]"
      ]
     },
     "execution_count": 28,
     "metadata": {},
     "output_type": "execute_result"
    }
   ],
   "source": [
    "def get_unique_substring(s: str, k: int): # slow\n",
    "    result = []\n",
    "    if len(s) < k:\n",
    "        return result\n",
    "    for i in range(k-1,len(s)):\n",
    "        dp = set(s[i-k+1:i+1])\n",
    "        if len(dp) == k:\n",
    "            result.append(s[i-k+1:i+1])\n",
    "    return [*set(result)]\n",
    "def substringk(s, k):\n",
    "    if not s or k == 0:\n",
    "        return []\n",
    "    \n",
    "    letter, res = {}, set()\n",
    "    start = 0\n",
    "    for i in range(len(s)):\n",
    "        if s[i] in letter and letter[s[i]] >= start:\n",
    "            start = letter[s[i]]+1\n",
    "        letter[s[i]] = i\n",
    "        if i-start+1 == k:\n",
    "            res.add(s[start:i+1])\n",
    "            start += 1\n",
    "    return list(res)\n",
    "substringk(\"aacs\",4)\n"
   ]
  },
  {
   "cell_type": "code",
   "execution_count": 29,
   "metadata": {},
   "outputs": [
    {
     "ename": "TypeError",
     "evalue": "'type' object is not iterable",
     "output_type": "error",
     "traceback": [
      "\u001b[0;31m---------------------------------------------------------------------------\u001b[0m",
      "\u001b[0;31mTypeError\u001b[0m                                 Traceback (most recent call last)",
      "\u001b[1;32m/home/void/projects/DS/test.ipynb Cell 11'\u001b[0m in \u001b[0;36m<cell line: 1>\u001b[0;34m()\u001b[0m\n\u001b[0;32m----> <a href='vscode-notebook-cell:/home/void/projects/DS/test.ipynb#ch0000010?line=0'>1</a>\u001b[0m \u001b[39mdef\u001b[39;00m \u001b[39mclassic_bfs\u001b[39m(graph: \u001b[39mlist\u001b[39m(\u001b[39mlist\u001b[39;49m(\u001b[39mstr\u001b[39;49m)), start: \u001b[39mlist\u001b[39m(\u001b[39mint\u001b[39m)):\n\u001b[1;32m      <a href='vscode-notebook-cell:/home/void/projects/DS/test.ipynb#ch0000010?line=1'>2</a>\u001b[0m     visited \u001b[39m=\u001b[39m \u001b[39mset\u001b[39m()\n\u001b[1;32m      <a href='vscode-notebook-cell:/home/void/projects/DS/test.ipynb#ch0000010?line=2'>3</a>\u001b[0m     queue \u001b[39m=\u001b[39m [start]\n",
      "\u001b[0;31mTypeError\u001b[0m: 'type' object is not iterable"
     ]
    }
   ],
   "source": [
    "def classic_bfs(graph: list(list(str)), start: list(int)):\n",
    "    visited = set()\n",
    "    queue = [start]\n",
    "    while queue:\n",
    "        node = queue.pop(0)\n",
    "        if node not in visited:\n",
    "            visited.add(node)\n",
    "            if graph[node[0],node[1]] == 'X':\n",
    "                return visited\n",
    "            queue.extend(graph[node])\n",
    "    return visited\n",
    "def next_move(graph,node):\n",
    "    moves = [(0,1),(0,-1),(1,0),(-1,0)]\n",
    "    res = []\n",
    "    for move in moves:\n",
    "        if node[0]+move[0] < len(graph) and node[1]+move[1] < len(graph[0]) and node[0]+move[0] >= 0 and node[1]+move[1] >= 0:\n",
    "            if graph[node[0]+move[0]][node[1]+move[1]] != 'D':\n",
    "                res.append(graph[node[0]+move[0]][node[1]+move[1]])\n",
    "    return res"
   ]
  },
  {
   "cell_type": "code",
   "execution_count": 43,
   "metadata": {},
   "outputs": [
    {
     "data": {
      "text/plain": [
       "False"
      ]
     },
     "execution_count": 43,
     "metadata": {},
     "output_type": "execute_result"
    }
   ],
   "source": [
    "\n",
    "def robot_in_circle(inst: str):\n",
    "    pos= (0,0)\n",
    "    right_next = {'U':'R','R':'D','D':'L','L':'U'}\n",
    "    left_next = {'U':'L','L':'D','D':'R','R':'U'}\n",
    "    dir_step = {'U':(0,1),'R':(1,0),'D':(0,-1),'L':(-1,0)}\n",
    "    dir = 'U'\n",
    "    for i in range(len(inst)):\n",
    "        if inst[i] == 'R':\n",
    "            dir = right_next[dir]\n",
    "        elif inst[i] == 'L':\n",
    "            dir = left_next[dir]\n",
    "        else:\n",
    "            pos = (pos[0]+dir_step[dir][0],pos[1]+dir_step[dir][1])\n",
    "    if pos == (0,0) or dir != 'U':\n",
    "        return True\n",
    "    return False\n",
    "robot_in_circle(\"GLRLLGLL\")"
   ]
  }
 ],
 "metadata": {
  "interpreter": {
   "hash": "e7370f93d1d0cde622a1f8e1c04877d8463912d04d973331ad4851f04de6915a"
  },
  "kernelspec": {
   "display_name": "Python 3.10.4 64-bit",
   "language": "python",
   "name": "python3"
  },
  "language_info": {
   "codemirror_mode": {
    "name": "ipython",
    "version": 3
   },
   "file_extension": ".py",
   "mimetype": "text/x-python",
   "name": "python",
   "nbconvert_exporter": "python",
   "pygments_lexer": "ipython3",
   "version": "3.10.4"
  },
  "orig_nbformat": 4
 },
 "nbformat": 4,
 "nbformat_minor": 2
}
