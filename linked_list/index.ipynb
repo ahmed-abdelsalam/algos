{
 "cells": [
  {
   "cell_type": "code",
   "execution_count": null,
   "metadata": {},
   "outputs": [],
   "source": [
    "# Problems\n"
   ]
  },
  {
   "cell_type": "code",
   "execution_count": 9,
   "metadata": {},
   "outputs": [],
   "source": [
    "class LinkedList:\n",
    "    def __init__(self, value, *args, **kwargs):\n",
    "        self.value = value\n",
    "        self.next: LinkedList = None\n",
    "\n",
    "    def __str__(self):\n",
    "        return f\"{self.value} -> {self.next}\"\n",
    "    @staticmethod\n",
    "    def convert_list_to_linked_list(lst: list):\n",
    "        if not lst or len(lst) == 0:\n",
    "            return None\n",
    "        head = LinkedList(lst[0])\n",
    "        current = head\n",
    "        for i in range(1, len(lst)):\n",
    "            current.next = LinkedList(lst[i])\n",
    "            current = current.next\n",
    "        return head\n"
   ]
  },
  {
   "cell_type": "markdown",
   "metadata": {},
   "source": [
    "## Find Kth elem to end: No Buffer Allowed\n"
   ]
  },
  {
   "cell_type": "code",
   "execution_count": 8,
   "metadata": {},
   "outputs": [
    {
     "data": {
      "text/plain": [
       "6"
      ]
     },
     "execution_count": 8,
     "metadata": {},
     "output_type": "execute_result"
    }
   ],
   "source": [
    "\n",
    "def find_nth_elem(head: LinkedList, result={'val':None, 'k':0}): #recursive cached\n",
    "    if head == None:\n",
    "        return 0, None\n",
    "\n",
    "    index, node = find_nth_elem(head.next, result)\n",
    "    if index == result['k']:\n",
    "        result['val'] = node\n",
    "    return index + 1, head.value\n",
    "\n",
    "\n",
    "\n",
    "input = LinkedList.convert_list_to_linked_list([1,2,3,4,5,6,7,8,9,10])\n",
    "def fin_kth_elem(head: LinkedList, k):\n",
    "    result = {'val':None, 'k':k}\n",
    "    find_nth_elem(input, result)\n",
    "    return result.get('val')\n",
    "fin_kth_elem(input, 5)"
   ]
  },
  {
   "cell_type": "markdown",
   "metadata": {},
   "source": [
    "## Delete middle node"
   ]
  },
  {
   "cell_type": "code",
   "execution_count": 35,
   "metadata": {},
   "outputs": [
    {
     "name": "stdout",
     "output_type": "stream",
     "text": [
      "False 1 -> 2 -> 3 -> 4 -> 5 -> 6 -> 7 -> 8 -> 9 -> 10 -> None\n"
     ]
    }
   ],
   "source": [
    "def delete_middle_node(node, head, prev=None) -> bool:\n",
    "    if node == None or head == None:\n",
    "        return False\n",
    "    if node.value == head.value and prev != None and head.next != None:\n",
    "        prev.next = head.next\n",
    "        return True\n",
    "    return delete_middle_node(node, head.next, head)\n",
    "\n",
    "# Test\n",
    "input = LinkedList.convert_list_to_linked_list([1,2,3,4,5,6,7,8,9,10])\n",
    "check = delete_middle_node( LinkedList(11), input)\n",
    "print(check, input)"
   ]
  },
  {
   "cell_type": "markdown",
   "metadata": {},
   "source": [
    "# Sum 2 reversed number\n",
    "(7-> 1 -> 6) + (5 -> 9 -> 2).That is,617 + 295."
   ]
  },
  {
   "cell_type": "code",
   "execution_count": 51,
   "metadata": {},
   "outputs": [
    {
     "name": "stdout",
     "output_type": "stream",
     "text": [
      "9 -> 9 -> 8 -> None\n"
     ]
    }
   ],
   "source": [
    "def sum_two_reversed_nums(l1, l2):\n",
    "    if l1 == None and l2 == None:\n",
    "        return None\n",
    "    res = LinkedList(0)\n",
    "    if l1 == None:\n",
    "        res.value += l2.value\n",
    "        res.next = sum_two_reversed_nums(l2.next)\n",
    "    elif l2 == None:\n",
    "        res.value += l1.value\n",
    "        res.next = sum_two_reversed_nums(l1.next)\n",
    "    else:\n",
    "        res.value = l1.value + l2.value\n",
    "        res.next = sum_two_reversed_nums(l1.next, l2.next)\n",
    "    if res.next != None and res.next.value > 9:\n",
    "        res.next.value %= 10\n",
    "        res.value += 1\n",
    "       \n",
    "    return res\n",
    "\n",
    "def sum_overflow(l1, l2):\n",
    "    l3 = sum_two_reversed_nums(l1, l2)\n",
    "    if l3.value > 9:\n",
    "        l3.value %= 10\n",
    "    return l3\n",
    "\n",
    "a = LinkedList.convert_list_to_linked_list([9,9,9])\n",
    "b = LinkedList.convert_list_to_linked_list([9,9,9])\n",
    "c = sum_overflow(a, b)\n",
    "print(c)\n"
   ]
  },
  {
   "cell_type": "code",
   "execution_count": null,
   "metadata": {},
   "outputs": [],
   "source": [
    "def check_plaindrom(head, index=0):\n",
    "    if head == None:\n",
    "        return 0, None\n",
    "    coming_index, node = check_plaindrom(head.next, index=index+1)\n",
    "    if coming_index == index and head.value == node.value:\n",
    "        return coming_index + 1, node\n",
    "\n"
   ]
  }
 ],
 "metadata": {
  "interpreter": {
   "hash": "e7370f93d1d0cde622a1f8e1c04877d8463912d04d973331ad4851f04de6915a"
  },
  "kernelspec": {
   "display_name": "Python 3.10.4 64-bit",
   "language": "python",
   "name": "python3"
  },
  "language_info": {
   "codemirror_mode": {
    "name": "ipython",
    "version": 3
   },
   "file_extension": ".py",
   "mimetype": "text/x-python",
   "name": "python",
   "nbconvert_exporter": "python",
   "pygments_lexer": "ipython3",
   "version": "3.10.4"
  },
  "orig_nbformat": 4
 },
 "nbformat": 4,
 "nbformat_minor": 2
}
