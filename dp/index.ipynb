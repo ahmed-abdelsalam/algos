{
 "cells": [
  {
   "cell_type": "markdown",
   "metadata": {},
   "source": [
    "# Problems\n",
    "\n",
    "##  Flip String to Monotone Increasing\n",
    "For say a 5 digit string, the answer is either `00000`, `00001`, `00011`, `00111`, or `111111`. Let's try to calculate the cost of switching to that answer. The answer has two halves, a left (zero) half, and a right (one) half."
   ]
  },
  {
   "cell_type": "code",
   "execution_count": null,
   "metadata": {},
   "outputs": [],
   "source": [
    "def min_flips(seq: str) -> int:\n",
    "    # all 0's  | rest 1's | all 1's\n",
    "    dp = [0,0,0]\n",
    "    for i in range(len(seq)):\n",
    "        if seq[i] == '0': #0\n",
    "            dp[2] += 1\n",
    "            if dp[1] >= dp[0]:\n",
    "                dp[1] = dp[0]\n",
    "            else:\n",
    "                dp[1] += 1\n",
    "        else: #1\n",
    "            dp[0] += 1\n",
    "    return min(dp[0])\n",
    "min_flips(\"1111001110\")\n"
   ]
  },
  {
   "cell_type": "markdown",
   "metadata": {},
   "source": [
    "## Coin flipping to beautiful sequence\n",
    "similar to above but it can accept 1's then 0's\n",
    "like `00000`, `0001`, `00011`, `11000`, `11110` or `111111`"
   ]
  },
  {
   "cell_type": "code",
   "execution_count": 1,
   "metadata": {},
   "outputs": [
    {
     "data": {
      "text/plain": [
       "2"
      ]
     },
     "execution_count": 1,
     "metadata": {},
     "output_type": "execute_result"
    }
   ],
   "source": [
    "def beautiful_seq(seq):\n",
    "    if len(seq) <=2:\n",
    "        return 0\n",
    "    # all 0's  | rest 1's | all 1's | rest 0's \n",
    "    dp = [0]*4\n",
    "    for i in range(len(seq)):\n",
    "        if seq[i] == '0': #0\n",
    "            dp[2] += 1\n",
    "            if dp[1] >= dp[0]:\n",
    "                dp[1] = dp[0]\n",
    "            else:\n",
    "                dp[1] += 1\n",
    "        else: #1\n",
    "            dp[0] += 1\n",
    "            if dp[3] >= dp[2]:\n",
    "                dp[3] = dp[2]\n",
    "            else:\n",
    "                dp[3] += 1\n",
    "    return min(dp)\n",
    "\n",
    "beautiful_seq(\"1111001110\")"
   ]
  },
  {
   "cell_type": "markdown",
   "metadata": {},
   "source": [
    "## Number Game\n",
    "\n",
    "maximize the result of\n",
    "N = 2, Arr = [3,4,9,5]\n",
    "Max score is 1 * gcd(4,5) + 2 * gcd(3, 9) = 7"
   ]
  },
  {
   "cell_type": "code",
   "execution_count": 5,
   "metadata": {},
   "outputs": [
    {
     "data": {
      "text/plain": [
       "449"
      ]
     },
     "execution_count": 5,
     "metadata": {},
     "output_type": "execute_result"
    }
   ],
   "source": [
    "from typing import List\n",
    "from functools import cache\n",
    "from math import gcd\n",
    "\n",
    "def maxScore(arr: List[int]) -> int:\n",
    "        ops = len(arr)//2\n",
    "        @cache\n",
    "        def dp(*arr):\n",
    "            if len(arr) <= 1:\n",
    "                return [],0\n",
    "            comb = []\n",
    "            max_sum = 0\n",
    "            res = []\n",
    "            curr = arr[0]\n",
    "            for i in range(1,len(arr)):\n",
    "                rem = dp(*arr[1:i],*arr[i+1:])\n",
    "                comb.append([gcd(curr,arr[i]), *rem[0]])\n",
    "            for item in comb:\n",
    "                temp = sum([ (i+1)*val for (i,val) in enumerate(sorted(item))])\n",
    "                if temp > max_sum:\n",
    "                    max_sum = temp\n",
    "                    res = item\n",
    "            return res, max_sum\n",
    "        _,sol = dp(*arr)\n",
    "        return sol\n",
    "maxScore([896,72,970,78,753,457,729,417,903,431,50,969,688,948])"
   ]
  },
  {
   "cell_type": "code",
   "execution_count": null,
   "metadata": {},
   "outputs": [],
   "source": []
  }
 ],
 "metadata": {
  "interpreter": {
   "hash": "e7370f93d1d0cde622a1f8e1c04877d8463912d04d973331ad4851f04de6915a"
  },
  "kernelspec": {
   "display_name": "Python 3.10.4 64-bit",
   "language": "python",
   "name": "python3"
  },
  "language_info": {
   "codemirror_mode": {
    "name": "ipython",
    "version": 3
   },
   "file_extension": ".py",
   "mimetype": "text/x-python",
   "name": "python",
   "nbconvert_exporter": "python",
   "pygments_lexer": "ipython3",
   "version": "3.10.4"
  },
  "orig_nbformat": 4
 },
 "nbformat": 4,
 "nbformat_minor": 2
}
