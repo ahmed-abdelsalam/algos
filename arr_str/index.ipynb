{
 "cells": [
  {
   "cell_type": "markdown",
   "metadata": {},
   "source": [
    "# Problems\n",
    "\n",
    "## Is Unique\n",
    "Implement an algorithm to determine if a string has all unique characters. \n",
    "- What if youcannot use additional data structures ?"
   ]
  },
  {
   "cell_type": "code",
   "execution_count": 25,
   "metadata": {},
   "outputs": [],
   "source": [
    "def unique_with_dict(str_in): #O(n)\n",
    "    d = {}\n",
    "    for i, char in enumerate(str_in):\n",
    "        if char in d:\n",
    "            return False\n",
    "        else:\n",
    "           d[char] = i\n",
    "    return True\n",
    "\n",
    "def unique_char_for_sorted(str_in): #O(nlog n)\n",
    "    str_in = ''.join(sorted(str_in))\n",
    "    for i in range(len(str_in) - 1):\n",
    "        if str_in[i] == str_in[i+1]:\n",
    "            return False\n",
    "    return True"
   ]
  },
  {
   "cell_type": "markdown",
   "metadata": {},
   "source": [
    "## Check Permuation \n",
    "Given two strings, write a method to decide if one is a permutation of the other"
   ]
  },
  {
   "cell_type": "code",
   "execution_count": 26,
   "metadata": {},
   "outputs": [
    {
     "data": {
      "text/plain": [
       "True"
      ]
     },
     "execution_count": 26,
     "metadata": {},
     "output_type": "execute_result"
    }
   ],
   "source": [
    "def check_str_permutation(str1, str2): #O(n)\n",
    "    if len(str1) != len(str2):\n",
    "        return False\n",
    "    d = {}\n",
    "    for char in str1:\n",
    "        if char in d:\n",
    "            d[char] += 1\n",
    "        else:\n",
    "            d[char] = 1\n",
    "    for char in str2:\n",
    "        if char in d:\n",
    "            d[char] -= 1\n",
    "            if d[char] == 0:\n",
    "                del d[char]\n",
    "        else:\n",
    "            return False\n",
    "    if(len(d) == 0):\n",
    "        return True\n",
    "    return False\n",
    "\n",
    "check_str_permutation('abcd', 'dcba')"
   ]
  },
  {
   "cell_type": "markdown",
   "metadata": {},
   "source": [
    "## Palindrome Permutation\n",
    "A palindrome is a word or phrase that is the same forwards and backwards\n",
    "tactcoapapa -> tcaapopaact"
   ]
  },
  {
   "cell_type": "code",
   "execution_count": 27,
   "metadata": {},
   "outputs": [
    {
     "data": {
      "text/plain": [
       "True"
      ]
     },
     "execution_count": 27,
     "metadata": {},
     "output_type": "execute_result"
    }
   ],
   "source": [
    "def sol(str_in):\n",
    "    even = False\n",
    "    if(len(str_in) <= 1):\n",
    "        return False\n",
    "    i=0\n",
    "    j=len(str_in)-1\n",
    "    while i <= j:\n",
    "        if str_in[i] == ' ':\n",
    "            i += 1\n",
    "            continue\n",
    "        if str_in[j] == ' ':\n",
    "            j -= 1\n",
    "            continue\n",
    "        if str_in[i] != str_in[j]:\n",
    "            return False\n",
    "        i += 1\n",
    "        j -= 1\n",
    "    return True\n",
    "sol('absba')"
   ]
  },
  {
   "cell_type": "code",
   "execution_count": 28,
   "metadata": {},
   "outputs": [
    {
     "data": {
      "text/plain": [
       "1"
      ]
     },
     "execution_count": 28,
     "metadata": {},
     "output_type": "execute_result"
    }
   ],
   "source": [
    "def perm_palidrome(str_in): #O(n) # optimized by check ing odd when building dict\n",
    "    d= { }\n",
    "    odd = 0\n",
    "    for char in str_in:\n",
    "        d[char] = d[char] + 1 if char in d else 1\n",
    "        odd = odd + 1 if d[char] % 2 == 1 else odd -1\n",
    "    return odd <= 1\n",
    "perm_palidrome('tactcoapapa')\n",
    "\n",
    "0b01001 & 0b00111\n"
   ]
  },
  {
   "cell_type": "markdown",
   "metadata": {},
   "source": [
    "## One Way\n",
    "There are three types of edits that can be performed on strings: insert a character,\n",
    "remove a character, or replace a character. Given two strings, write a function to check if they are\n",
    "one edit (or zero edits) away"
   ]
  },
  {
   "cell_type": "code",
   "execution_count": 29,
   "metadata": {},
   "outputs": [
    {
     "data": {
      "text/plain": [
       "True"
      ]
     },
     "execution_count": 29,
     "metadata": {},
     "output_type": "execute_result"
    }
   ],
   "source": [
    "def one_edit_difference(str1, str2): #O(n)\n",
    "    if len(str1) == len(str2):\n",
    "        return one_edit_replace(str1, str2)\n",
    "    if len(str1) + 1 == len(str2):\n",
    "        return one_edit_remove(str1, str2)\n",
    "    if len(str1) - 1 == len(str2):\n",
    "        return one_edit_remove(str2, str1)\n",
    "    return False\n",
    "\n",
    "def one_edit_replace(str1:str, str2:str) -> bool:\n",
    "    replaces = 0\n",
    "    i = 0\n",
    "    while i < len(str1):\n",
    "        if str1[i] != str2[i]:\n",
    "            replaces += 1\n",
    "            if replaces > 1:\n",
    "                return False\n",
    "        i += 1\n",
    "    return True\n",
    "\n",
    "def one_edit_remove(str1: str, str2: str) -> bool:\n",
    "    i = 0\n",
    "    j = 0\n",
    "    while i < len(str1) and j < len(str2):\n",
    "        if str1[i] != str2[j]:\n",
    "            if i != j:\n",
    "                return False\n",
    "            j += 1\n",
    "        else:\n",
    "            i += 1\n",
    "            j += 1\n",
    "    return True\n",
    "\n",
    "one_edit_difference('pale','bale')"
   ]
  },
  {
   "cell_type": "markdown",
   "metadata": {},
   "source": [
    "## Rotate NxN Matrix 90 deg"
   ]
  },
  {
   "cell_type": "code",
   "execution_count": 30,
   "metadata": {},
   "outputs": [],
   "source": [
    "def rotate_matrix(mat: list) -> list:\n",
    "    layers = len(mat)//2\n",
    "    for first in range(layers):\n",
    "        last = len(mat) - first -1\n",
    "        for i in range(first, last+1):\n",
    "            #top -> left\n",
    "            temp = mat[i][last]\n",
    "            mat[i][last] = mat[first][i]\n",
    "            #left -> bottom\n",
    "            mat[last][i] = temp\n",
    "            #bottom -> right\n",
    "            mat[i][first] = mat[last][i]\n",
    "            #right -> top\n",
    "            mat[first][i] = temp\n",
    "        "
   ]
  },
  {
   "cell_type": "markdown",
   "metadata": {},
   "source": [
    "## Zero Matrix\n",
    "for any point eq 0 make all elements in its row and col eq 0 also"
   ]
  },
  {
   "cell_type": "code",
   "execution_count": 31,
   "metadata": {},
   "outputs": [
    {
     "name": "stdout",
     "output_type": "stream",
     "text": [
      "0 0 0 0\n",
      "0 0 0 0\n",
      "7 0 0 9\n",
      "7 0 0 9\n"
     ]
    }
   ],
   "source": [
    "def nullify_row(mat, row):\n",
    "    for i in range(len(mat[0])):\n",
    "        mat[row][i] = 0\n",
    "def nullify_col(mat, col):\n",
    "    for i in range(len(mat)):\n",
    "        mat[i][col] = 0\n",
    "\n",
    "\n",
    "def zero_matrix(mat):\n",
    "    \n",
    "    # check 0s in first row and col\n",
    "    first_col_zero = False\n",
    "    first_row_zero = False\n",
    "    for i in range(len(mat)):\n",
    "        if mat[i][0] == 0:\n",
    "            first_col_zero = True\n",
    "            break\n",
    "    for i in range(len(mat[0])):\n",
    "        if mat[0][i] == 0:\n",
    "            first_row_zero = True\n",
    "            break\n",
    "    \n",
    "\n",
    "    #move all 0s to the top right corner\n",
    "    for i in range(1,len(mat)):\n",
    "        for j in range(1,len(mat[0])):\n",
    "            if mat[i][j] == 0:\n",
    "                mat[i][0] = 0\n",
    "                mat[0][j] = 0\n",
    "    \n",
    "    # nullify remaining rows\n",
    "    for i in range(len(mat)):\n",
    "        if mat[i][0] == 0:\n",
    "            nullify_row(mat, i)\n",
    "    # nullify remaining cols\n",
    "    for j in range(len(mat[0])):\n",
    "        if mat[0][j] == 0:\n",
    "            nullify_col(mat, j)\n",
    "    \n",
    "    # nullify first row and col if needed\n",
    "    if first_col_zero:\n",
    "        nullify_col(mat, 0)\n",
    "    if first_row_zero:\n",
    "        nullify_row(mat, 0)\n",
    "\n",
    "\n",
    "mat = [\n",
    "    [1,0,3, 5],\n",
    "    [4,5,0 ,7],\n",
    "    [7,8,9 , 9],\n",
    "    [7,8,9 , 9],\n",
    "    ]\n",
    "zero_matrix(mat)\n",
    "print ('\\n'.join(' '.join(str(c) for c in r ) for r in mat))"
   ]
  },
  {
   "cell_type": "markdown",
   "metadata": {},
   "source": [
    "## Robot bounded to circle\n",
    "assume we have a robot that recievs only three commands\n",
    "G -> go one step\n",
    "L -> turn 90deg to left\n",
    "R -> turn 90deg to right\n",
    "\n",
    "if given an instruction and by repeating it, can the robot return to its starting point (0,0)"
   ]
  },
  {
   "cell_type": "code",
   "execution_count": 3,
   "metadata": {},
   "outputs": [
    {
     "data": {
      "text/plain": [
       "True"
      ]
     },
     "execution_count": 3,
     "metadata": {},
     "output_type": "execute_result"
    }
   ],
   "source": [
    "def isRobotBounded(inst: str) -> bool:\n",
    "    right_next = {'U':'R','R':'D','D':'L','L':'U'}\n",
    "    left_next = {'U':'L','L':'D','D':'R','R':'U'}\n",
    "    dir_step = {'U':[0,1],'R':[1,0],'D':[0,-1],'L':[-1,0]}\n",
    "    pos= [0,0]\n",
    "    dir = 'U'\n",
    "    for i in range(len(inst)):\n",
    "        if inst[i] == 'R':\n",
    "            dir = right_next[dir]\n",
    "        elif inst[i] == 'L':\n",
    "            dir = left_next[dir]\n",
    "        else:\n",
    "            pos[0] += dir_step[dir][0]\n",
    "            pos[1] += dir_step[dir][1]\n",
    "    if dir != 'U' or sum(pos) == 0:\n",
    "        return True\n",
    "    return False\n",
    "\n",
    "isRobotBounded('GLGLGLGL')"
   ]
  },
  {
   "cell_type": "markdown",
   "metadata": {},
   "source": [
    "## Get Heaviest Package\n",
    "`Amazon OA`\n",
    "\n",
    "you have list of packages and you want to get heaviest packages after merging possible package.\n",
    "you can only merge Pack[i] with Pack[i+1] when ith ith < (i+1)th, you can merge as many as you like"
   ]
  },
  {
   "cell_type": "code",
   "execution_count": 7,
   "metadata": {},
   "outputs": [
    {
     "name": "stdout",
     "output_type": "stream",
     "text": [
      "[10, 2, 2, 6, 1, 7]\n",
      "[10, 2, 2, 6, 1, 7]\n",
      "[10, 2, 8, 1, 7]\n",
      "[10, 10, 1, 7]\n",
      "[10, 10, 1, 7]\n",
      "[10, 10, 1, 7]\n",
      "[10, 10, 8]\n",
      "[10, 10, 8]\n"
     ]
    },
    {
     "data": {
      "text/plain": [
       "10"
      ]
     },
     "execution_count": 7,
     "metadata": {},
     "output_type": "execute_result"
    }
   ],
   "source": [
    "def getHeaviestPackageAfterMerge(weights):\n",
    "    if len(weights) == 1:\n",
    "        return weights[0]\n",
    "    i=0\n",
    "    while i < len(weights)-1:\n",
    "        merge = False\n",
    "        temp = weights[i]\n",
    "        for j in range(i+1, len(weights)):\n",
    "            if weights[j] > weights[j-1]:\n",
    "                merge = True\n",
    "                temp += weights[j]\n",
    "            else:\n",
    "                weights = weights[:i] + [temp] + weights[j:]\n",
    "                break\n",
    "            if j == len(weights)-1:\n",
    "                weights = weights[:i] + [temp]\n",
    "        print(weights)\n",
    "        if not merge:\n",
    "            i += 1\n",
    "        else:\n",
    "            i -= (1 if i >= 0 else 0)\n",
    "    return max(weights)\n",
    "getHeaviestPackageAfterMerge([10,2,2,6,1,7])"
   ]
  },
  {
   "cell_type": "markdown",
   "metadata": {},
   "source": [
    "## String Rotation\n",
    "given method is_sub_string, check if s1 is rotation of s2 and at each point ?\n"
   ]
  },
  {
   "cell_type": "code",
   "execution_count": 32,
   "metadata": {},
   "outputs": [
    {
     "data": {
      "text/plain": [
       "True"
      ]
     },
     "execution_count": 32,
     "metadata": {},
     "output_type": "execute_result"
    }
   ],
   "source": [
    "\n",
    "def check_rotation(s1:str, s2:str) -> bool:\n",
    "    if len(s1) != len(s2) or len(s1) == 0:\n",
    "        return False\n",
    "    return s2 in s1+s1\n",
    "\n",
    "s= \"waterbottle\"\n",
    "t= \"erbottlewat\"\n",
    "check_rotation(s, t)"
   ]
  },
  {
   "cell_type": "markdown",
   "metadata": {},
   "source": [
    "## Find Password String Strength\n",
    "`Amazon OA`\n",
    "\n",
    "find all  unique counts for possible combination \n",
    "like:\n",
    "good.\n",
    "- g  -> 1 unique chars\n",
    "- o  -> 1 unique chars\n",
    "- go  -> 2 unique chars\n",
    "- o  -> 1 unique chars\n",
    "- oo  -> 1 unique chars\n",
    "- goo  -> 2 unique chars\n",
    "- d  -> 1 unique chars\n",
    "- od  -> 2 unique chars\n",
    "- ood  -> 2 unique chars\n",
    "- good  -> 3 unique chars\n",
    "\n",
    "**total** = 1+1 +2 +1 + 1 +2 +1 +2 + 2+ 3 = 16"
   ]
  },
  {
   "cell_type": "code",
   "execution_count": 1,
   "metadata": {},
   "outputs": [
    {
     "data": {
      "text/plain": [
       "16"
      ]
     },
     "execution_count": 1,
     "metadata": {},
     "output_type": "execute_result"
    }
   ],
   "source": [
    "def findPassStrength(password):\n",
    "    res,dp,store= 0,0,{}\n",
    "    for i,c in enumerate(password):\n",
    "        dp += i - (store[c] if c in store else -1)\n",
    "        store[c] = i\n",
    "        res += dp\n",
    "    return res\n",
    "\n",
    "findPassStrength('good')"
   ]
  }
 ],
 "metadata": {
  "interpreter": {
   "hash": "e7370f93d1d0cde622a1f8e1c04877d8463912d04d973331ad4851f04de6915a"
  },
  "kernelspec": {
   "display_name": "Python 3.10.4 64-bit",
   "language": "python",
   "name": "python3"
  },
  "language_info": {
   "codemirror_mode": {
    "name": "ipython",
    "version": 3
   },
   "file_extension": ".py",
   "mimetype": "text/x-python",
   "name": "python",
   "nbconvert_exporter": "python",
   "pygments_lexer": "ipython3",
   "version": "3.10.4"
  },
  "orig_nbformat": 4
 },
 "nbformat": 4,
 "nbformat_minor": 2
}
