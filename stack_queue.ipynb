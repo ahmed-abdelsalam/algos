{
 "cells": [
  {
   "cell_type": "markdown",
   "metadata": {},
   "source": [
    "# Problems\n",
    "\n",
    "## Stack of plates"
   ]
  },
  {
   "cell_type": "code",
   "execution_count": null,
   "metadata": {},
   "outputs": [],
   "source": [
    "import textwrap\n",
    "\n",
    "class StackSet:\n",
    "\n",
    "    def __init__(self, capacity):\n",
    "        self.capacity = capacity\n",
    "        self.items = []\n",
    "        self.carry = None\n",
    "\n",
    "    def peek(self):\n",
    "        return self.items[-1]\n",
    "    def pop(self):\n",
    "        size = len(self.items)\n",
    "        if size == 0:\n",
    "            return None\n",
    "        if  size == 1:\n",
    "            last = self.items.pop()\n",
    "            if self.carry:\n",
    "                self = self.carry\n",
    "            return last\n",
    "        return self.items.pop()\n",
    "    def push(self, item):\n",
    "        if len(self.items) >= self.capacity:\n",
    "            new_stack = StackSet(self.capacity)\n",
    "            new_stack.carry = self\n",
    "            self = new_stack\n",
    "        self.items.append(item)\n",
    "        return self\n",
    "    def __str__(self):\n",
    "        return f\"{' '.join([str(i) for i in self.items])}/{self.carry}\"\n",
    "\n",
    "\n",
    "a= StackSet(3)\n",
    "a = a.push(4)\n",
    "a = a.push(3)\n",
    "a = a.push(2)\n",
    "a = a.push(1)\n",
    "a = a.push(0)\n",
    "a = a.push(-1)\n",
    "a = a.push(-2)\n",
    "a = a.push(-3)\n",
    "a.pop()\n",
    "a.pop()\n",
    "a.pop()\n",
    "a.pop()\n",
    "a.pop()\n",
    "a.pop()\n",
    "a.pop()\n",
    "a.pop()\n",
    "print(a)\n",
    "\n",
    "\n",
    "\n",
    "FIFO  LIFO     "
   ]
  },
  {
   "cell_type": "code",
   "execution_count": 16,
   "metadata": {
    "vscode": {
     "languageId": "javascript"
    }
   },
   "outputs": [
    {
     "ename": "SyntaxError",
     "evalue": "invalid syntax (2239823066.py, line 1)",
     "output_type": "error",
     "traceback": [
      "\u001b[0;36m  Input \u001b[0;32mIn [16]\u001b[0;36m\u001b[0m\n\u001b[0;31m    function minHeaviestSubset(arr) {\u001b[0m\n\u001b[0m             ^\u001b[0m\n\u001b[0;31mSyntaxError\u001b[0m\u001b[0;31m:\u001b[0m invalid syntax\n"
     ]
    }
   ],
   "source": [
    "function minHeaviestSubset(arr) {\n",
    "    let min = Infinity;\n",
    "    let max = -Infinity;\n",
    "    let sum = 0;\n",
    "    let maxSum = 0;\n",
    "    let maxIndex = 0;\n",
    "    for (let i = 0; i < arr.length; i++) {\n",
    "        sum += arr[i];\n",
    "        if (sum > maxSum) {\n",
    "            maxSum = sum;\n",
    "            maxIndex = i;\n",
    "        }\n",
    "        if (sum < min) {\n",
    "            min = sum;\n",
    "        }\n",
    "    }\n",
    "    return arr.slice(0, maxIndex + 1);\n",
    "}\n",
    "\n",
    "\n",
    "minHeaviestSubset([5,3,2,4,1,2])"
   ]
  }
 ],
 "metadata": {
  "interpreter": {
   "hash": "e7370f93d1d0cde622a1f8e1c04877d8463912d04d973331ad4851f04de6915a"
  },
  "kernelspec": {
   "display_name": "Python 3.10.4 64-bit",
   "language": "python",
   "name": "python3"
  },
  "language_info": {
   "codemirror_mode": {
    "name": "ipython",
    "version": 3
   },
   "file_extension": ".py",
   "mimetype": "text/x-python",
   "name": "python",
   "nbconvert_exporter": "python",
   "pygments_lexer": "ipython3",
   "version": "3.10.4"
  },
  "orig_nbformat": 4
 },
 "nbformat": 4,
 "nbformat_minor": 2
}
